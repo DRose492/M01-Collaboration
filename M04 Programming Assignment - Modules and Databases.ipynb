{
 "cells": [
  {
   "cell_type": "markdown",
   "id": "0b295671",
   "metadata": {},
   "source": [
    "# 11.1 Create a file called zoo.py. In it, define a function called hours() that prints the string 'Open 9-5 daily'. Then, use the interactive interpreter to import the zoo module and call its hours() function.\n",
    "This assumes that the file zoo.py is able to be imported, but is interpretted as being a seperate python code in this notebook, the imported code replacing the phrase \"import zoo\"."
   ]
  },
  {
   "cell_type": "code",
   "execution_count": 14,
   "id": "29871ff7",
   "metadata": {},
   "outputs": [],
   "source": [
    "def hours(): # This is the code that represents the zoo.py module\n",
    "    print('Open 9-5 daily')"
   ]
  },
  {
   "cell_type": "code",
   "execution_count": 15,
   "id": "02735e61",
   "metadata": {},
   "outputs": [
    {
     "name": "stdout",
     "output_type": "stream",
     "text": [
      "Open 9-5 daily\n"
     ]
    }
   ],
   "source": [
    "def hours(): #These lines would be replaced with \"import zoo\".\n",
    "    print('Open 9-5 daily')\n",
    "\n",
    "hours() # This line would instead be written as zoo.hours()"
   ]
  },
  {
   "cell_type": "markdown",
   "id": "06cd71d4",
   "metadata": {},
   "source": [
    "# 11.2 In the interactive interpreter, import the zoo module as menagerie and call its hours() function.\n",
    "This code will assume that the zoo.py code at the top is still a valid module on the computer and will once again replace the \"import zoo as menagerie\" phrase for the actual code for ease of notebook function."
   ]
  },
  {
   "cell_type": "code",
   "execution_count": 11,
   "id": "71c468ee",
   "metadata": {},
   "outputs": [
    {
     "name": "stdout",
     "output_type": "stream",
     "text": [
      "Open 9-5 daily\n"
     ]
    }
   ],
   "source": [
    "def hours(): # These lines would instead be replaced with \"import zoo as menagerie\"\n",
    "    print('Open 9-5 daily')\n",
    "    \n",
    "hours() #This line would be replaced with menagerie.hours()"
   ]
  },
  {
   "cell_type": "markdown",
   "id": "acb2b80e",
   "metadata": {},
   "source": [
    "# 16.8 Use the sqlalchemy module to connect to the sqlite3 database books.db that you just made in exercise 16.4. As in 16.6, select and print the title column from the book table in alphabetical order.\n"
   ]
  },
  {
   "cell_type": "code",
   "execution_count": 13,
   "id": "8da2ada7",
   "metadata": {},
   "outputs": [
    {
     "name": "stdout",
     "output_type": "stream",
     "text": [
      "2023-11-20 19:10:36,842 INFO sqlalchemy.engine.Engine SELECT name FROM sqlite_master WHERE type='table' ORDER BY name\n",
      "2023-11-20 19:10:36,843 INFO sqlalchemy.engine.Engine [raw sql] ()\n"
     ]
    },
    {
     "ename": "TypeError",
     "evalue": "'FacadeDict' object is not callable",
     "output_type": "error",
     "traceback": [
      "\u001b[1;31m---------------------------------------------------------------------------\u001b[0m",
      "\u001b[1;31mTypeError\u001b[0m                                 Traceback (most recent call last)",
      "Cell \u001b[1;32mIn[13], line 9\u001b[0m\n\u001b[0;32m      5\u001b[0m metadata \u001b[38;5;241m=\u001b[39m MetaData()\n\u001b[0;32m      7\u001b[0m metadata\u001b[38;5;241m.\u001b[39mreflect(bind\u001b[38;5;241m=\u001b[39mengine)\n\u001b[1;32m----> 9\u001b[0m books_table \u001b[38;5;241m=\u001b[39m metadata\u001b[38;5;241m.\u001b[39mtables(\u001b[38;5;124m'\u001b[39m\u001b[38;5;124mbooks\u001b[39m\u001b[38;5;124m'\u001b[39m, metadata, autoload\u001b[38;5;241m=\u001b[39m\u001b[38;5;28;01mTrue\u001b[39;00m, autoload_with\u001b[38;5;241m=\u001b[39mengine)\n\u001b[0;32m     11\u001b[0m select_query \u001b[38;5;241m=\u001b[39m select([books_table\u001b[38;5;241m.\u001b[39mc\u001b[38;5;241m.\u001b[39mtitle])\u001b[38;5;241m.\u001b[39morder_by(books_table\u001b[38;5;241m.\u001b[39mc\u001b[38;5;241m.\u001b[39mtitle)\n\u001b[0;32m     13\u001b[0m \u001b[38;5;28;01mwith\u001b[39;00m engine\u001b[38;5;241m.\u001b[39mconnect() \u001b[38;5;28;01mas\u001b[39;00m connection:\n",
      "\u001b[1;31mTypeError\u001b[0m: 'FacadeDict' object is not callable"
     ]
    }
   ],
   "source": [
    "from sqlalchemy import create_engine, Table, MetaData, select\n",
    "\n",
    "engine = create_engine('sqlite:///books.db', echo=True)\n",
    "\n",
    "metadata = MetaData()\n",
    "\n",
    "metadata.reflect(bind=engine)\n",
    "\n",
    "books_table = metadata.tables('books', metadata, autoload=True, autoload_with=engine)\n",
    "\n",
    "select_query = select([books_table.c.title]).order_by(books_table.c.title)\n",
    "\n",
    "with engine.connect() as connection:\n",
    "    result = connection.execute(select_query)\n",
    "\n",
    "    titles = result.fetchall()\n",
    "    for title in titles:\n",
    "        print(title[0])\n"
   ]
  },
  {
   "cell_type": "code",
   "execution_count": null,
   "id": "447dcbf1",
   "metadata": {},
   "outputs": [],
   "source": []
  }
 ],
 "metadata": {
  "kernelspec": {
   "display_name": "Python 3 (ipykernel)",
   "language": "python",
   "name": "python3"
  },
  "language_info": {
   "codemirror_mode": {
    "name": "ipython",
    "version": 3
   },
   "file_extension": ".py",
   "mimetype": "text/x-python",
   "name": "python",
   "nbconvert_exporter": "python",
   "pygments_lexer": "ipython3",
   "version": "3.11.5"
  }
 },
 "nbformat": 4,
 "nbformat_minor": 5
}
