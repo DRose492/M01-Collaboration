{
 "cells": [
  {
   "cell_type": "markdown",
   "id": "09443a76",
   "metadata": {},
   "source": [
    "# Sort an array of 0s, 1s and 2s\n",
    "Given an array of size N containing only 0s, 1s, and 2s; sort the array in ascending order.\n",
    "\n",
    "Your Task:\n",
    "You don't need to read input or print anything. Your task is to complete the function sort012() that takes an array arr and N as input parameters and sorts the array in-place."
   ]
  },
  {
   "cell_type": "code",
   "execution_count": 2,
   "id": "18b0e4ce",
   "metadata": {},
   "outputs": [],
   "source": [
    "def sort012(arr, N):\n",
    "    low = 0\n",
    "    high = N - 1\n",
    "    mid = 0\n",
    "\n",
    "    while mid <= high:\n",
    "        if arr[mid] == 0:\n",
    "            arr[low], arr[mid] = arr[mid], arr[low]\n",
    "            low += 1\n",
    "            mid += 1\n",
    "        elif arr[mid] == 1:\n",
    "            mid += 1\n",
    "        else:\n",
    "            arr[mid], arr[high] = arr[high], arr[mid]\n",
    "            high -= 1"
   ]
  },
  {
   "cell_type": "markdown",
   "id": "f6c23180",
   "metadata": {},
   "source": [
    "# Binary Search\n",
    "Given a sorted array of size N and an integer K, find the position(0-based indexing) at which K is present in the array using binary search.\n",
    "\n",
    "Your Task:  \n",
    "You dont need to read input or print anything. Complete the function binarysearch() which takes arr[], N and K as input parameters and returns the index of K in the array. If K is not present in the array, return -1."
   ]
  },
  {
   "cell_type": "code",
   "execution_count": 5,
   "id": "07190bfa",
   "metadata": {},
   "outputs": [
    {
     "name": "stdout",
     "output_type": "stream",
     "text": [
      "Element 12 is present at index 5.\n"
     ]
    }
   ],
   "source": [
    "def binarysearch(arr, N, K):\n",
    "    left = 0\n",
    "    right = N - 1\n",
    "\n",
    "    while left <= right:\n",
    "        mid = left + (right - left) // 2\n",
    "\n",
    "        if arr[mid] == K:\n",
    "            return mid\n",
    "        elif arr[mid] < K:\n",
    "            left = mid + 1\n",
    "        else:\n",
    "            right = mid - 1\n",
    "\n",
    "    return -1\n",
    "\n",
    "if __name__ == \"__main__\":\n",
    "    sorted_arr = [2, 4, 6, 8, 10, 12, 14, 16, 18, 20]\n",
    "    target = 12\n",
    "    index = binarysearch(sorted_arr, len(sorted_arr), target)\n",
    "\n",
    "    if index != -1:\n",
    "        print(f\"Element {target} is present at index {index}.\")\n",
    "    else:\n",
    "        print(f\"Element {target} is not present in the array.\")"
   ]
  }
 ],
 "metadata": {
  "kernelspec": {
   "display_name": "Python 3 (ipykernel)",
   "language": "python",
   "name": "python3"
  },
  "language_info": {
   "codemirror_mode": {
    "name": "ipython",
    "version": 3
   },
   "file_extension": ".py",
   "mimetype": "text/x-python",
   "name": "python",
   "nbconvert_exporter": "python",
   "pygments_lexer": "ipython3",
   "version": "3.11.5"
  }
 },
 "nbformat": 4,
 "nbformat_minor": 5
}
