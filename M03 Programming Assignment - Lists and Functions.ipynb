{
 "cells": [
  {
   "cell_type": "markdown",
   "id": "f2bd06b2",
   "metadata": {},
   "source": [
    "# 7.4 Make a list called things with these three strings as elements: \"mozzarella\", \"cinderella\", \"salmonella\"."
   ]
  },
  {
   "cell_type": "code",
   "execution_count": 2,
   "id": "7c3ab24a",
   "metadata": {},
   "outputs": [
    {
     "name": "stdout",
     "output_type": "stream",
     "text": [
      "['mozzarella', 'cinderella', 'salmonella']\n"
     ]
    }
   ],
   "source": [
    "things = [\"mozzarella\", \"cinderella\", \"salmonella\"]\n",
    "print(things)"
   ]
  },
  {
   "cell_type": "markdown",
   "id": "232d182a",
   "metadata": {},
   "source": [
    "# 7.5 Capitalize the element in things that refers to a person and then print the list. Did it change the element in the list?\n",
    "\n",
    "An assumption needs to be made to say that we are actively aware of Cinderella being a name. So a seperate list of names need be added."
   ]
  },
  {
   "cell_type": "code",
   "execution_count": 3,
   "id": "c80df71d",
   "metadata": {},
   "outputs": [
    {
     "name": "stdout",
     "output_type": "stream",
     "text": [
      "['mozzarella', 'Cinderella', 'salmonella']\n"
     ]
    }
   ],
   "source": [
    "things = [\"mozzarella\", \"cinderella\", \"salmonella\"]\n",
    "names = [\"alice\", \"bob\", \"cinderella\", \"dave\", \"eve\"]\n",
    "\n",
    "for i in range(len(things)):\n",
    "    if things[i].lower() in [name.lower() for name in names]:\n",
    "        things[i] = things[i].capitalize()\n",
    "\n",
    "print(things)"
   ]
  },
  {
   "cell_type": "markdown",
   "id": "9273814f",
   "metadata": {},
   "source": [
    "# 7.6 Make the cheesy element of things all uppercase and then print the list."
   ]
  },
  {
   "cell_type": "code",
   "execution_count": 5,
   "id": "afa8b473",
   "metadata": {},
   "outputs": [
    {
     "name": "stdout",
     "output_type": "stream",
     "text": [
      "['MOZZARELLA', 'Cinderella', 'salmonella']\n"
     ]
    }
   ],
   "source": [
    "things = [\"mozzarella\", \"cinderella\", \"salmonella\"]\n",
    "names = [\"alice\", \"bob\", \"cinderella\", \"dave\", \"eve\"]\n",
    "cheeses = [\"mozzarella\", \"cheddar\", \"brie\", \"gouda\", \"parmesan\"]\n",
    "\n",
    "for i in range(len(things)):\n",
    "    if things[i].lower() in [name.lower() for name in names]:\n",
    "        things[i] = things[i].capitalize()\n",
    "    elif things[i].lower() in [cheese.lower() for cheese in cheeses]:\n",
    "        things[i] = things[i].upper()\n",
    "\n",
    "print(things)"
   ]
  },
  {
   "cell_type": "markdown",
   "id": "fc8a1af7",
   "metadata": {},
   "source": [
    "# 7.7 Delete the disease element from things, collect your Nobel Prize, and print the list."
   ]
  },
  {
   "cell_type": "code",
   "execution_count": 6,
   "id": "670f7e18",
   "metadata": {},
   "outputs": [
    {
     "name": "stdout",
     "output_type": "stream",
     "text": [
      "['MOZZARELLA', 'Cinderella']\n"
     ]
    }
   ],
   "source": [
    "things = [\"mozzarella\", \"cinderella\", \"salmonella\"]\n",
    "names = [\"alice\", \"bob\", \"cinderella\", \"dave\", \"eve\"]\n",
    "cheeses = [\"mozzarella\", \"cheddar\", \"brie\", \"gouda\", \"parmesan\"]\n",
    "\n",
    "for i in range(len(things)):\n",
    "    if things[i].lower() in [name.lower() for name in names]:\n",
    "        things[i] = things[i].capitalize()\n",
    "    elif things[i].lower() in [cheese.lower() for cheese in cheeses]:\n",
    "        things[i] = things[i].upper()\n",
    "    else:\n",
    "        del things[i]\n",
    "\n",
    "print(things)"
   ]
  },
  {
   "cell_type": "markdown",
   "id": "d2734ceb",
   "metadata": {},
   "source": [
    "# 9.1 Define a function called good() that returns the following list: ['Harry', 'Ron', 'Hermione']."
   ]
  },
  {
   "cell_type": "code",
   "execution_count": 7,
   "id": "9ce75b71",
   "metadata": {},
   "outputs": [
    {
     "data": {
      "text/plain": [
       "['Harry', 'Ron', 'Hermione']"
      ]
     },
     "execution_count": 7,
     "metadata": {},
     "output_type": "execute_result"
    }
   ],
   "source": [
    "def good():\n",
    "    list = [\"Harry\", \"Ron\", \"Hermione\"]\n",
    "    return list\n",
    "\n",
    "good()"
   ]
  },
  {
   "cell_type": "markdown",
   "id": "3485461b",
   "metadata": {},
   "source": [
    "# 9.2 Define a generator function called get_odds() that returns the odd numbers from range(10). Use a for loop to find and print the third value returned."
   ]
  },
  {
   "cell_type": "code",
   "execution_count": 8,
   "id": "d1f5d6a5",
   "metadata": {},
   "outputs": [
    {
     "name": "stdout",
     "output_type": "stream",
     "text": [
      "The third odd number is: 5\n"
     ]
    }
   ],
   "source": [
    "def get_odds():\n",
    "    for number in range(1, 10, 2):\n",
    "        yield number\n",
    "        \n",
    "count = 0\n",
    "for odd_number in get_odds():\n",
    "    count += 1\n",
    "    if count == 3:\n",
    "        print(\"The third odd number is:\", odd_number)\n",
    "        break"
   ]
  },
  {
   "cell_type": "code",
   "execution_count": null,
   "id": "c46a35f4",
   "metadata": {},
   "outputs": [],
   "source": []
  }
 ],
 "metadata": {
  "kernelspec": {
   "display_name": "Python 3 (ipykernel)",
   "language": "python",
   "name": "python3"
  },
  "language_info": {
   "codemirror_mode": {
    "name": "ipython",
    "version": 3
   },
   "file_extension": ".py",
   "mimetype": "text/x-python",
   "name": "python",
   "nbconvert_exporter": "python",
   "pygments_lexer": "ipython3",
   "version": "3.11.5"
  }
 },
 "nbformat": 4,
 "nbformat_minor": 5
}
