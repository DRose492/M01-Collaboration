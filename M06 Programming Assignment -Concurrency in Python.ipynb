{
 "cells": [
  {
   "cell_type": "markdown",
   "id": "2f552c51",
   "metadata": {},
   "source": [
    "# 13.1 Write the current date as a string to the text file today.txt.\n",
    "\n",
    "Assuming that the text file \"today.txt\" already exists"
   ]
  },
  {
   "cell_type": "code",
   "execution_count": 1,
   "id": "3976edb3",
   "metadata": {},
   "outputs": [
    {
     "name": "stdout",
     "output_type": "stream",
     "text": [
      "Current date '2023-12-04' has been written to 'today.txt'.\n"
     ]
    }
   ],
   "source": [
    "from datetime import date\n",
    "\n",
    "# Get the current date\n",
    "current_date = date.today().strftime(\"%Y-%m-%d\")\n",
    "\n",
    "# Write the current date to the file\n",
    "file_path = 'today.txt'\n",
    "with open(file_path, 'w') as file:\n",
    "    file.write(current_date)\n",
    "\n",
    "print(f\"Current date '{current_date}' has been written to '{file_path}'.\")"
   ]
  },
  {
   "cell_type": "markdown",
   "id": "f68f3360",
   "metadata": {},
   "source": [
    "# 13.2 Read the text file today.txt into the string today_string."
   ]
  },
  {
   "cell_type": "code",
   "execution_count": 2,
   "id": "e6bfcb21",
   "metadata": {},
   "outputs": [
    {
     "name": "stdout",
     "output_type": "stream",
     "text": [
      "Content of 'today.txt' read into 'today_string':\n",
      "2023-12-04\n"
     ]
    }
   ],
   "source": [
    "file_path = 'today.txt'\n",
    "\n",
    "# Read the contents of the file into a string\n",
    "with open(file_path, 'r') as file:\n",
    "    today_string = file.read()\n",
    "\n",
    "print(f\"Content of '{file_path}' read into 'today_string':\")\n",
    "print(today_string)"
   ]
  },
  {
   "cell_type": "markdown",
   "id": "69716bd3",
   "metadata": {},
   "source": [
    "# 13.3 Parse the date from today_string"
   ]
  },
  {
   "cell_type": "code",
   "execution_count": 3,
   "id": "be37cfa5",
   "metadata": {},
   "outputs": [
    {
     "name": "stdout",
     "output_type": "stream",
     "text": [
      "Parsed date: 2023-12-04\n"
     ]
    }
   ],
   "source": [
    "from datetime import datetime\n",
    "\n",
    "# Assuming today_string contains the date in the format 'YYYY-MM-DD'\n",
    "today_string = \"2023-12-04\"  # Replace this line with your actual today_string\n",
    "\n",
    "# Parse the date from today_string\n",
    "parsed_date = datetime.strptime(today_string, '%Y-%m-%d').date()\n",
    "\n",
    "print(f\"Parsed date: {parsed_date}\")"
   ]
  },
  {
   "cell_type": "markdown",
   "id": "c84c4dcf",
   "metadata": {},
   "source": [
    "# 15.1 Use multiprocessing to create three separate processes. Make each one wait a random number of seconds between zero and one, print the current time, and then exit"
   ]
  },
  {
   "cell_type": "code",
   "execution_count": 4,
   "id": "684e21d1",
   "metadata": {},
   "outputs": [],
   "source": [
    "import multiprocessing\n",
    "import time\n",
    "import random\n",
    "from datetime import datetime\n",
    "\n",
    "# Function for each process\n",
    "def print_current_time():\n",
    "    sleep_time = random.uniform(0, 1)\n",
    "    time.sleep(sleep_time)\n",
    "    current_time = datetime.now().strftime(\"%Y-%m-%d %H:%M:%S\")\n",
    "    print(f\"Current time: {current_time}\")\n",
    "    \n",
    "if __name__ == \"__main__\":\n",
    "    processes = []\n",
    "    for _ in range(3):\n",
    "        p = multiprocessing.Process(target=print_current_time)\n",
    "        processes.append(p)\n",
    "        p.start()\n",
    "    \n",
    "    for p in processes:\n",
    "        p.join()"
   ]
  },
  {
   "cell_type": "code",
   "execution_count": null,
   "id": "2a0d21e1",
   "metadata": {},
   "outputs": [],
   "source": []
  }
 ],
 "metadata": {
  "kernelspec": {
   "display_name": "Python 3 (ipykernel)",
   "language": "python",
   "name": "python3"
  },
  "language_info": {
   "codemirror_mode": {
    "name": "ipython",
    "version": 3
   },
   "file_extension": ".py",
   "mimetype": "text/x-python",
   "name": "python",
   "nbconvert_exporter": "python",
   "pygments_lexer": "ipython3",
   "version": "3.11.5"
  }
 },
 "nbformat": 4,
 "nbformat_minor": 5
}
